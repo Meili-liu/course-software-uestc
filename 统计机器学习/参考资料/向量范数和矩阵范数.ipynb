{
 "cells": [
  {
   "cell_type": "markdown",
   "metadata": {},
   "source": [
    "# 向量范数和矩阵范数"
   ]
  },
  {
   "cell_type": "markdown",
   "metadata": {},
   "source": [
    "## numpy.linalg.norm(x, ord=None, axis=None, keepdims=False)"
   ]
  },
  {
   "cell_type": "markdown",
   "metadata": {},
   "source": [
    "numpy包里的linalg模块，是专门处理基本线性代数问题的模块。借助该模块中的norm()函数可以轻松计算向量与矩阵的范数。\n",
    "\n",
    "Matrix or vector norm. This function is able to return one of eight different matrix norms, or one of an infinite number of vector norms (described below), depending on the value of the ord parameter. The following norms can be calculated:"
   ]
  },
  {
   "cell_type": "markdown",
   "metadata": {},
   "source": [
    "- None : Frobenius norm (or ‘fro’)\n",
    "- ‘nuc’:\tnuclear norm\n",
    "- inf :\tmax(sum(abs(x), axis=1))\tmax(abs(x))\n",
    "- -inf :\tmin(sum(abs(x), axis=1))\tmin(abs(x))\n",
    "- 0\t : sum(x != 0)\n",
    "- 1\t: max(sum(abs(x), axis=0))\n",
    "- -1 :\tmin(sum(abs(x), axis=0))\n",
    "- 2 :\t2-norm (largest sing. value)\n",
    "- -2 :\tsmallest singular value"
   ]
  },
  {
   "cell_type": "code",
   "execution_count": 18,
   "metadata": {
    "collapsed": false
   },
   "outputs": [
    {
     "name": "stdout",
     "output_type": "stream",
     "text": [
      "7.4161984871\n",
      "15.0\n"
     ]
    }
   ],
   "source": [
    "import numpy as np\n",
    "from numpy import linalg as la\n",
    "x = np.array([1,2,3,4,5])\n",
    "print(la.norm(x))\n",
    "print(la.norm(x,ord=1))"
   ]
  },
  {
   "cell_type": "code",
   "execution_count": 24,
   "metadata": {
    "collapsed": false
   },
   "outputs": [
    {
     "name": "stdout",
     "output_type": "stream",
     "text": [
      "3.0\n",
      "3.74165738677\n",
      "3.74165738677\n",
      "3.0\n"
     ]
    }
   ],
   "source": [
    "y = np.array([1,2,3])\n",
    "print(la.norm(y,np.inf))\n",
    "print(la.norm(y,2))\n",
    "print(np.sqrt(14))\n",
    "print(la.norm(y,0))"
   ]
  },
  {
   "cell_type": "code",
   "execution_count": 25,
   "metadata": {
    "collapsed": false
   },
   "outputs": [
    {
     "name": "stdout",
     "output_type": "stream",
     "text": [
      "4.0\n",
      "0.0\n",
      "20.0\n",
      "7.74596669241\n",
      "\n",
      "[  5.40000000e+01   6.00000000e+00   6.38831424e-16]\n",
      "7.0\n",
      "7.34846922835\n",
      "9.0\n",
      "7.74596669241\n"
     ]
    }
   ],
   "source": [
    "def compute_norm():\n",
    "    mat = np.matrix([[1,2],[3,4]])\n",
    "    inv_mat = np.linalg.inv(mat)\n",
    "    print inv_mat\n",
    "\n",
    "def vector_norm():\n",
    "    a = np.arange(9) - 4\n",
    "    print la.norm(a,np.inf) #无穷范数\n",
    "    print la.norm(a,-np.inf)\n",
    "    print la.norm(a,1) #1范数\n",
    "    print la.norm(a,2) #2范数\n",
    "\n",
    "def matrix_norm():\n",
    "    a = np.arange(9) - 4\n",
    "    b = a.reshape(3,3)\n",
    "    b_t = np.transpose(b)\n",
    "    b_new = np.dot(b_t,b) #b_new矩阵为b^t * b\n",
    "    x = np.linalg.eigvals(b_new) #求b_new矩阵的特征值\n",
    "    print x\n",
    "    print la.norm(b,1) #列范数\n",
    "    print la.norm(b,2) #谱范数,为x里最大值开平方\n",
    "    print la.norm(b,np.inf) #无穷范数，行范数\n",
    "    print la.norm(b,\"fro\") #F范数\n",
    "\n",
    "vector_norm()\n",
    "print \n",
    "matrix_norm()"
   ]
  }
 ],
 "metadata": {
  "kernelspec": {
   "display_name": "Python [Root]",
   "language": "python",
   "name": "Python [Root]"
  },
  "language_info": {
   "codemirror_mode": {
    "name": "ipython",
    "version": 2
   },
   "file_extension": ".py",
   "mimetype": "text/x-python",
   "name": "python",
   "nbconvert_exporter": "python",
   "pygments_lexer": "ipython2",
   "version": "2.7.12"
  }
 },
 "nbformat": 4,
 "nbformat_minor": 0
}
